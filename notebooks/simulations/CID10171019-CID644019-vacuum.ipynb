{
 "cells": [
  {
   "cell_type": "code",
   "execution_count": null,
   "metadata": {},
   "outputs": [],
   "source": [
    "%%capture\n",
    "\n",
    "import numpy as np\n",
    "from scipy.spatial.transform import Rotation\n",
    "\n",
    "from simtk import unit\n",
    "from simtk.openmm import LangevinIntegrator, MonteCarloAnisotropicBarostat\n",
    "from simtk.openmm.app import HBonds, CutoffPeriodic\n",
    "from simtk.openmm.app import ForceField, Modeller, Simulation\n",
    "from simtk.openmm.app import PDBReporter, DCDReporter, StateDataReporter\n",
    "\n",
    "from parmed.openmm.reporters import RestartReporter\n",
    "from openforcefield.topology import Molecule, Topology\n",
    "from openmoltools.utils import smiles_to_mdtraj_ffxml\n",
    "\n",
    "# %run ../../src/report-utils"
   ]
  },
  {
   "cell_type": "code",
   "execution_count": null,
   "metadata": {},
   "outputs": [],
   "source": [
    "FFXML_DIR = './'\n",
    "\n",
    "STEP_SIZE = 250\n",
    "TOTAL_STEPS = 1000\n",
    "SIM_DURATION = TOTAL_STEPS*STEP_SIZE\n",
    "\n",
    "ENERGY_TOLERANCE = 2.0\n",
    "MAX_ENERGY_ITERS = 5000\n",
    "\n",
    "LANGE_TOLERANCE = 10**-5\n",
    "LANGE_TEMPERATURE = 300.0*unit.kelvin\n",
    "LANGE_FRICTION = 1.0/unit.picoseconds\n",
    "LANGE_STEPSIZE = 2.0*unit.femtoseconds"
   ]
  },
  {
   "cell_type": "code",
   "execution_count": null,
   "metadata": {},
   "outputs": [],
   "source": [
    "RENDER_INTERVAL = 5\n",
    "\n",
    "PDB_FRAME_DIR= 'pdb-frames'\n",
    "PDB_REPORT_FILE = 'simulation.pdb'\n",
    "DCD_REPORT_FILE = 'simulation.dcd'\n",
    "STATE_REPORT_FILE = 'simulation.state.txt'\n",
    "\n",
    "STEP_PER_REPORT = 100\n",
    "RESTART_FILE = 'restart.rst7'\n",
    "STATE_RESTART_FILE = 'restart.xml'\n",
    "CHECKPOINT_RESTART_FILE = 'restart.chk'"
   ]
  },
  {
   "cell_type": "code",
   "execution_count": null,
   "metadata": {},
   "outputs": [],
   "source": [
    "reporters = [\n",
    "    PDBReporter(PDB_REPORT_FILE, STEP_PER_REPORT),\n",
    "    DCDReporter(DCD_REPORT_FILE, STEP_PER_REPORT),\n",
    "    StateDataReporter(\n",
    "        STATE_REPORT_FILE, STEP_PER_REPORT, \n",
    "        progress=True, temperature=True, \n",
    "        potentialEnergy=True, density=True,\n",
    "        totalSteps=TOTAL_STEPS, speed=True)]"
   ]
  },
  {
   "cell_type": "code",
   "execution_count": null,
   "metadata": {},
   "outputs": [],
   "source": [
    "%%capture\n",
    "\n",
    "ligSMILES = 'CCCCCC1=CC(=C(C(=C1)O)[C@@H]2C=C(CC[C@H]2C(=C)C)C)O'\n",
    "(ligTRAJ, ligFFXML) = smiles_to_mdtraj_ffxml([ligSMILES], base_molecule_name='LIG')\n",
    "ligTRAJ_top = ligTRAJ[0].top.to_openmm()\n",
    "ligTRAJ_xyz = ligTRAJ[0].openmm_positions(0)\n",
    "with open(FFXML_DIR + 'LIG-0.xml', 'w+') as xmlfile:\n",
    "    xmlfile.write(ligFFXML.getvalue())\n",
    "\n",
    "cdtSMILES = 'C([C@@H]1[C@@H]2[C@@H]([C@H]([C@H](O1)O[C@@H]3[C@H](O[C@@H]([C@@H]([C@H]3O)O)O[C@@H]4[C@H](O[C@@H]([C@@H]([C@H]4O)O)O[C@@H]5[C@H](O[C@@H]([C@@H]([C@H]5O)O)O[C@@H]6[C@H](O[C@@H]([C@@H]([C@H]6O)O)O[C@@H]7[C@H](O[C@@H]([C@@H]([C@H]7O)O)O[C@@H]8[C@H](O[C@H](O2)[C@@H]([C@H]8O)O)CO)CO)CO)CO)CO)CO)O)O)O'\n",
    "(cdtTRAJ, cdtFFXML) = smiles_to_mdtraj_ffxml([cdtSMILES], base_molecule_name='CDT')\n",
    "cdtTRAJ_top = cdtTRAJ[0].top.to_openmm()\n",
    "cdtTRAJ_xyz = cdtTRAJ[0].openmm_positions(0)\n",
    "with open(FFXML_DIR + 'CDT-0.xml', 'w+') as xmlfile:\n",
    "    xmlfile.write(cdtFFXML.getvalue())\n",
    "\n",
    "# ligTRAJ_xyz._values = [Vec3(*row) for row in Rotation.from_euler('x', 180, degrees=True).apply(np.array(ligTRAJ_xyz[0]._value))]\n",
    "ligTRAJ_xyz += np.array([0.0, 0.0, -10.0]) * unit.angstroms\n",
    "\n",
    "model = Modeller(cdtTRAJ_top, cdtTRAJ_xyz)\n",
    "model.add(ligTRAJ_top, ligTRAJ_xyz)"
   ]
  },
  {
   "cell_type": "code",
   "execution_count": null,
   "metadata": {},
   "outputs": [],
   "source": [
    "print('Loading forcefields...')\n",
    "\n",
    "forcefield = ForceField(FFXML_DIR + 'LIG-0.xml', FFXML_DIR + 'CDT-0.xml')\n",
    "\n",
    "print('Creating system...')\n",
    "\n",
    "system = forcefield.createSystem(model.topology)"
   ]
  },
  {
   "cell_type": "code",
   "execution_count": null,
   "metadata": {},
   "outputs": [],
   "source": [
    "integrator = LangevinIntegrator(LANGE_TEMPERATURE, LANGE_FRICTION, LANGE_STEPSIZE)\n",
    "integrator.setConstraintTolerance(LANGE_TOLERANCE)\n",
    "\n",
    "print('Building simulation environment...\\n')\n",
    "\n",
    "simulation = Simulation(model.topology, system, integrator) \n",
    "simulation.context.setPositions(model.positions)\n",
    "\n",
    "print('Initial system energy:\\n\\t%s\\n' % echo_context_energy(simulation.context))\n",
    "\n",
    "simulation.minimizeEnergy(ENERGY_TOLERANCE, MAX_ENERGY_ITERS)\n",
    "\n",
    "print('System energy after minimization:\\n\\t%s\\n' % echo_context_energy(simulation.context))\n",
    "\n",
    "for r in reporters: simulation.reporters.append(r)"
   ]
  },
  {
   "cell_type": "code",
   "execution_count": null,
   "metadata": {},
   "outputs": [],
   "source": [
    "for (i,s) in enumerate(range(STEP_SIZE, SIM_DURATION, STEP_SIZE)): \n",
    "    simulation.step(STEP_SIZE)\n",
   ]
  },
  {
   "cell_type": "code",
   "execution_count": null,
   "metadata": {},
   "outputs": [],
   "source": [
    "if STATE_RESTART_FILE: simulation.saveState(STATE_RESTART_FILE)\n",
    "if CHECKPOINT_RESTART_FILE: simulation.saveCheckpoint(CHECKPOINT_RESTART_FILE)\n",
   ]
  },
  {
   "cell_type": "code",
   "execution_count": null,
   "metadata": {},
   "outputs": [],
   "source": [
    "RESTART_FILE = 'restart.rst7'\n",
    "STATE_RESTART_FILE = 'restart.xml'\n",
    "CHECKPOINT_RESTART_FILE = 'restart.chk'"
   ]
  }
 ],
 "metadata": {
  "file_extension": ".py",
  "kernelspec": {
   "display_name": "Python 3.6.10 64-bit ('qcmm': conda)",
   "language": "python",
   "name": "python361064bitqcmmcondac19dda4244fb4a8d8a50fb39055fedc3"
  },
  "language_info": {
   "codemirror_mode": {
    "name": "ipython",
    "version": 3
   },
   "file_extension": ".py",
   "mimetype": "text/x-python",
   "name": "python",
   "nbconvert_exporter": "python",
   "pygments_lexer": "ipython3",
   "version": "3.6.10"
  },
  "mimetype": "text/x-python",
  "name": "python",
  "npconvert_exporter": "python",
  "pygments_lexer": "ipython3",
  "version": 3
 },
 "nbformat": 4,
 "nbformat_minor": 4
}
