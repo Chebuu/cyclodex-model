{
 "cells": [
  {
   "cell_type": "code",
   "execution_count": null,
   "metadata": {},
   "outputs": [],
   "source": [
    "import numpy as np\n",
    "import mdtraj as md\n",
    "from scipy.spatial.transform import Rotation\n",
    "\n",
    "from simtk import unit\n",
    "from simtk.openmm import Vec3, LangevinIntegrator, MonteCarloAnisotropicBarostat\n",
    "from simtk.openmm.app import HBonds, NoCutoff, GBn2\n",
    "from simtk.openmm.app import ForceField, Modeller, Simulation\n",
    "from simtk.openmm.app import PDBReporter, DCDReporter, StateDataReporter\n",
    "\n",
    "from parmed.openmm.reporters import RestartReporter\n",
    "from openforcefield.topology import Molecule, Topology\n",
    "from openmoltools.utils import smiles_to_mdtraj_ffxml"
   ]
  },
  {
   "cell_type": "code",
   "execution_count": null,
   "metadata": {},
   "outputs": [],
   "source": [
    "FFXML_DIR = './'\n",
    "\n",
    "STEP_SIZE = 250\n",
    "TOTAL_STEPS = 1000\n",
    "SIM_DURATION = TOTAL_STEPS*STEP_SIZE\n",
    "\n",
    "ENERGY_TOLERANCE = 0.02\n",
    "MAX_ENERGY_ITERS = 5000\n",
    "\n",
    "LANGE_TOLERANCE = 10**-5\n",
    "LANGE_TEMPERATURE = 302.0*unit.kelvin\n",
    "LANGE_FRICTION = 1.0/unit.picoseconds\n",
    "LANGE_STEPSIZE = 2.0*unit.femtoseconds\n",
    "\n",
    "RENDER_INTERVAL = 5\n",
    "\n",
    "PDB_FRAME_DIR= 'pdb-frames'\n",
    "PDB_REPORT_FILE = 'simulation-GBn2.pdb'\n",
    "DCD_REPORT_FILE = 'simulation-GBn2.dcd'\n",
    "STATE_REPORT_FILE = 'simulation-GBn2.state.txt'\n",
    "\n",
    "STEP_PER_REPORT = 100\n",
    "RESTART_FILE = 'restart-GBn2.rst7'\n",
    "STATE_RESTART_FILE = 'restart-GBn2.xml'\n",
    "CHECKPOINT_RESTART_FILE = 'restart-GBn2.chk'"
   ]
  },
  {
   "cell_type": "code",
   "execution_count": null,
   "metadata": {},
   "outputs": [],
   "source": [
    "reporters = [\n",
    "    PDBReporter(PDB_REPORT_FILE, STEP_PER_REPORT),\n",
    "    DCDReporter(DCD_REPORT_FILE, STEP_PER_REPORT),\n",
    "    StateDataReporter(\n",
    "        STATE_REPORT_FILE, STEP_PER_REPORT, \n",
    "        progress=True, temperature=True, \n",
    "        potentialEnergy=True, density=True,\n",
    "        totalSteps=TOTAL_STEPS, speed=True)]"
   ]
  },
  {
   "cell_type": "code",
   "execution_count": null,
   "metadata": {},
   "outputs": [],
   "source": [
    "cdtTRAJ = md.load('CDT-0.gaff.mol2')\n",
    "cdtTRAJ_top = cdtTRAJ[0].top.to_openmm()\n",
    "cdtTRAJ_xyz = cdtTRAJ[0].openmm_positions(0)\n",
    "\n",
    "ligTRAJ = md.load('LIG-0.gaff.mol2')\n",
    "ligTRAJ_top = ligTRAJ[0].top.to_openmm()\n",
    "ligTRAJ_xyz = ligTRAJ[0].openmm_positions(0)\n",
    "\n",
    "model = Modeller(cdtTRAJ_top, cdtTRAJ_xyz)\n",
    "model.add(ligTRAJ_top, ligTRAJ_xyz)"
   ]
  },
  {
   "cell_type": "code",
   "execution_count": null,
   "metadata": {},
   "outputs": [],
   "source": [
    "print('Loading forcefields...')\n",
    "forcefield = ForceField(\n",
    "    FFXML_DIR + 'LIG-0.xml', \n",
    "    FFXML_DIR + 'CDT-0.xml')\n",
    "\n",
    "print('Creating system...')\n",
    "system = forcefield.createSystem(\n",
    "    model.topology,\n",
    "    nonbondedMethod=NoCutoff,\n",
    "    polarization='mutual',\n",
    "    mutualInducedTargetEpsilon=0.0005,\n",
    "    implicitSolvent=GBn2,\n",
    "    implicitSolventSaltConc=0.5*unit.moles/unit.liter)"
   ]
  },
  {
   "cell_type": "code",
   "execution_count": null,
   "metadata": {},
   "outputs": [],
   "source": [
    "integrator = LangevinIntegrator(LANGE_TEMPERATURE, LANGE_FRICTION, LANGE_STEPSIZE)\n",
    "integrator.setConstraintTolerance(LANGE_TOLERANCE)\n",
    "\n",
    "print('Building simulation environment...\\n')\n",
    "\n",
    "simulation = Simulation(model.topology, system, integrator) \n",
    "simulation.context.setPositions(model.positions)\n",
    "\n",
    "print('Initial system energy:\\n\\t%s\\n' % echo_context_energy(simulation.context))\n",
    "\n",
    "simulation.minimizeEnergy(ENERGY_TOLERANCE, MAX_ENERGY_ITERS)\n",
    "\n",
    "print('System energy after minimization:\\n\\t%s\\n' % echo_context_energy(simulation.context))\n",
    "\n",
    "for r in reporters: simulation.reporters.append(r)"
   ]
  },
  {
   "cell_type": "code",
   "execution_count": null,
   "metadata": {},
   "outputs": [],
   "source": [
    "for (i,s) in enumerate(range(STEP_SIZE, SIM_DURATION, STEP_SIZE)): \n",
    "    simulation.step(STEP_SIZE)\n",
    "    print('System energy at step %s (%sfs):\\n\\t%s' % (i, s, echo_context_energy(simulation.context)))"
   ]
  }
 ],
 "metadata": {
  "kernelspec": {
   "display_name": "Python 3.6.10 64-bit ('qcmm': conda)",
   "language": "python",
   "name": "python361064bitqcmmcondac19dda4244fb4a8d8a50fb39055fedc3"
  },
  "language_info": {
   "codemirror_mode": {
    "name": "ipython",
    "version": 3
   },
   "file_extension": ".py",
   "mimetype": "text/x-python",
   "name": "python",
   "nbconvert_exporter": "python",
   "pygments_lexer": "ipython3",
   "version": "3.6.10"
  }
 },
 "nbformat": 4,
 "nbformat_minor": 4
}
