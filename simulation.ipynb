{
 "nbformat": 4,
 "nbformat_minor": 2,
 "metadata": {
  "language_info": {
   "name": "python",
   "codemirror_mode": {
    "name": "ipython",
    "version": 3
   },
   "version": "3.6.9-final"
  },
  "orig_nbformat": 2,
  "file_extension": ".py",
  "mimetype": "text/x-python",
  "name": "python",
  "npconvert_exporter": "python",
  "pygments_lexer": "ipython3",
  "version": 3,
  "kernelspec": {
   "name": "python361064bitqcmmcondab220bd5a26d1489ea52a6cd420b86a2d",
   "display_name": "Python 3.6.10 64-bit ('qcmm': conda)"
  }
 },
 "cells": [
  {
   "cell_type": "code",
   "execution_count": 7,
   "metadata": {},
   "outputs": [],
   "source": [
    "import sys\n",
    "import numpy as np\n",
    "import mdtraj as md\n",
    "\n",
    "from simtk import unit\n",
    "from simtk.openmm import MonteCarloAnisotropicBarostat\n",
    "from simtk.openmm.app import PDBReporter, DCDReporter\n",
    "from simtk.openmm.app import ForceField, Modeller\n",
    "from simtk.openmm.app import HBonds, PME\n",
    "from simtk.openmm.app import PDBFile\n",
    "\n",
    "from openmmtools import forces\n",
    "from parmed.openmm.reporters import RestartReporter\n",
    "from openforcefield.topology import Molecule\n",
    "from openmmforcefields.generators import GAFFTemplateGenerator\n",
    "from openforcefield.utils.toolkits import AmberToolsToolkitWrapper\n",
    "\n",
    "%run utilities\n",
    "# %run OPLSLennardJones"
   ]
  },
  {
   "cell_type": "code",
   "execution_count": 8,
   "metadata": {},
   "outputs": [],
   "source": [
    "\n",
    "STEP_SIZE = 250\n",
    "TOTAL_STEPS = 100\n",
    "SIM_DURATION = TOTAL_STEPS*STEP_SIZE\n",
    "\n",
    "LIGAND_OFFSET = (10.0, 10.0, 0.0)\n",
    "\n",
    "ENERGY_TOLERANCE = 2.0\n",
    "MAX_ENERGY_ITERS = 5000\n",
    "\n",
    "CONSTRAINTS = HBonds\n",
    "NONBONDED_METHOD = PME\n",
    "NONBONDED_CUTOFF = 1.0*unit.nanometers\n",
    "SWITCH_DISTANCE = 10.0*unit.angstroms\n",
    "\n",
    "BARO_FREQUENCY = 25\n",
    "BARO_PRESSURE = 1.0*unit.bar\n",
    "BARO_TEMPERATURE = 300.0*unit.kelvin\n",
    "\n",
    "LANGE_TOLERANCE = 10**-5\n",
    "LANGE_TEMPERATURE = 300.0*unit.kelvin\n",
    "LANGE_FRICTION = 1.0/unit.picoseconds\n",
    "LANGE_STEPSIZE = 2.0*unit.femtoseconds"
   ]
  },
  {
   "cell_type": "code",
   "execution_count": 9,
   "metadata": {},
   "outputs": [],
   "source": [
    "RENDER_INTERVAL = 5\n",
    "\n",
    "PDB_FRAME_DIR= 'pdb-frames'\n",
    "PDB_REPORT_FILE = 'simulation.pdb'\n",
    "DCD_REPORT_FILE = 'simulation.dcd'\n",
    "STATE_REPORT_FILE = 'simulation.state.txt'\n",
    "\n",
    "STEP_PER_REPORT = 100\n",
    "RESTART_FILE = 'restart.rst7'\n",
    "STATE_RESTART_FILE = 'restart.xml'\n",
    "CHECKPOINT_RESTART_FILE = 'restart.chk'"
   ]
  },
  {
   "cell_type": "code",
   "execution_count": 10,
   "metadata": {},
   "outputs": [],
   "source": [
    "cdtMOL = md.load('mol/di-o-methyl-beta-cyclodextrin-CID10171019.mol2')\n",
    "cdtMOL_top = cdtMOL.top.to_openmm()\n",
    "cdtMOL_xyz = cdtMOL.openmm_positions(0)\n",
    "\n",
    "ligMOL = md.load('mol/ligand-CID644019.mol2')\n",
    "ligMOL_top = ligMOL.top.to_openmm()\n",
    "ligMOL_xyz = ligMOL.openmm_positions(0)\n",
    "\n",
    "ligMOL.xyz += np.array(LIGAND_OFFSET)\n",
    "# min_ap_dist = ((ligMOL.xyz[0] ** 2.).sum(1) ** 0.5).max() + ((ligMOL.xyz[0] ** 2.).sum(1) ** 0.5).max() + 0.3\n",
    "# ligMOL.xyz += np.array([1.0, 0.0, 0.0]) * min_ap_dist\n",
    "\n",
    "model = Modeller(cdtMOL_top, cdtMOL_xyz)\n",
    "model.add(ligMOL_top, ligMOL_xyz)\n",
    "# model.addExtraParticles(forcefield)\n",
    "# model.addHydrogens(forcefield)\n",
    "# model.addSolvent(forcefield, padding=5*unit.angstroms)"
   ]
  },
  {
   "cell_type": "code",
   "execution_count": 12,
   "metadata": {},
   "outputs": [
    {
     "name": "stdout",
     "output_type": "stream",
     "text": "Molecule with name '644019' and SMILES '[H][O][C]1=[C]([H])[C]([C]([H])([H])[C]([H])([H])[C]([H])([H])[C]([H])([H])[C]([H])([H])[H])=[C]([H])[C]([O][H])=[C]1[C@]1([H])[C]([H])=[C]([C]([H])([H])[H])[C]([H])([H])[C]([H])([H])[C@@]1([H])[C](=[C]([H])[H])[C]([H])([H])[H]'\n"
    }
   ],
   "source": [
    "molecules = [\n",
    "    Molecule.from_file('sdf/ligand-CID644019.sdf'),\n",
    "    Molecule.from_file('sdf/di-o-methyl-beta-cyclodextrin-CID10171019.sdf')]\n",
    "\n",
    "for mol in molecules: \n",
    "    print(mol)\n",
    "    mol.generate_conformers(n_conformers=1)\n",
    "    mol.compute_partial_charges_am1bcc(AmberToolsToolkitWrapper())\n",
    "    \n",
    "GAFFForceField = GAFFTemplateGenerator.INSTALLED_FORCEFIELDS[-1]\n",
    "GAFFTemplate = GAFFTemplateGenerator(forcefield=GAFFForceField)\n",
    "GAFFTemplate.add_molecules(molecules)\n",
    "\n",
    "forcefield = ForceField()\n",
    "forcefield.registerTemplateGenerator(GAFFTemplate.generator)"
   ]
  },
  {
   "cell_type": "code",
   "execution_count": null,
   "metadata": {},
   "outputs": [],
   "source": [
    "print('Creating system...')\n",
    "system = forcefield.createSystem(\n",
    "    model.topology, \n",
    "    constraints=CONSTRAINTS,\n",
    "    nonbondedMethod=NONBONDED_METHOD, \n",
    "    nonbondedCutoff=NONBONDED_CUTOFF,\n",
    "    switchDistance=SWITCH_DISTANCE)\n",
    "\n",
    "print('Adding barostat force...')\n",
    "system.addForce(\n",
    "    MonteCarloAnisotropicBarostat(\n",
    "        defaultPressure=BARO_PRESSURE, defaultTemperature=BARO_TEMPERATURE,\n",
    "        frequency=BARO_FREQUENCY, scaleX=True, scaleY=True, scaleZ=True))"
   ]
  },
  {
   "cell_type": "code",
   "execution_count": null,
   "metadata": {},
   "outputs": [],
   "source": [
    "integrator = LangevinIntegrator(LANGE_TEMPERATURE, LANGE_FRICTION, LANGE_STEPSIZE)\n",
    "integrator.setConstraintTolerance(LAGNE_TOLERANCE)"
   ]
  },
  {
   "cell_type": "code",
   "execution_count": null,
   "metadata": {},
   "outputs": [],
   "source": [
    "simulation = Simulation(model.topology, system, integrator) \n",
    "simulation.context.setPositions(model.positions)\n",
    "simulation.minimizeEnergy(ENERGY_TOLERANCE, MAX_ENERGY_ITERS)\n",
    "\n",
    "simulation.reporters.append(\n",
    "    PDBReporter(PDB_REPORT_FILE, STEP_PER_REPORT),\n",
    "    DCDReporter(DCD_REPORT_FILE, STEP_PER_REPORT),\n",
    "    StateDataReporter(\n",
    "        STATE_REPORT_FILE, STEP_PER_REPORT, \n",
    "        progress=True, temperature=True, \n",
    "        potentialEnergy=True, density=True,\n",
    "        totalSteps=TOTAL_STEPS, speed=True),\n",
    "    StateDataReporter(\n",
    "        sys.stdout, STEP_PER_REPORT, \n",
    "        progress=True, temperature=True, \n",
    "        potentialEnergy=True, density=True,\n",
    "        totalSteps=TOTAL_STEPS, speed=True)))"
   ]
  },
  {
   "cell_type": "code",
   "execution_count": null,
   "metadata": {},
   "outputs": [],
   "source": [
    "for (i,_) in enumerate(range(STEP_SIZE, SIM_DURATION, STEP_SIZE)): \n",
    "    simulation.step(STEP_SIZE)\n",
    "    if not i + 1 % RENDER_INTERVAL:\n",
    "        report = PDBFile(PDB_REPORT_FILE)\n",
    "        topology = report.getTopology()\n",
    "        positions = report.getPositions(i)\n",
    "        render_traj(topology, positions)"
   ]
  },
  {
   "cell_type": "code",
   "execution_count": null,
   "metadata": {},
   "outputs": [],
   "source": [
    "if STATE_FILE: simulation.saveState(STATE_FILE)\n",
    "if CHECKPOINT_FILE: simulation.saveCheckpoint(CHECKPOINT_FILE)\n",
    "if PDB_FRAME_DIR: save_frames_pdb(PDB_REPORT_FILE, where=PDB_FRAME_DIR, name=PDB_REPORT_FILE)\n"
   ]
  }
 ]
}